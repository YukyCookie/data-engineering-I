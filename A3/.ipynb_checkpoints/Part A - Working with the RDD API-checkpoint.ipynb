{
 "cells": [
  {
   "cell_type": "code",
   "execution_count": 2,
   "id": "d98c40eb-36ae-4b29-869c-5b251ce98674",
   "metadata": {},
   "outputs": [],
   "source": [
    "import pyspark\n",
    "from pyspark.sql import SparkSession\n",
    "from operator import add\n",
    "import string\n",
    "import re"
   ]
  },
  {
   "cell_type": "code",
   "execution_count": 4,
   "id": "be5c3ab9-a26e-4c27-b5af-210e7d565715",
   "metadata": {},
   "outputs": [],
   "source": [
    "spark_session = SparkSession\\\n",
    "        .builder\\\n",
    "        .master(\"spark://192.168.2.119:7077\") \\\n",
    "        .appName(\"weilin_PartA\")\\\n",
    "        .config(\"spark.dynamicAllocation.enabled\", True)\\\n",
    "        .config(\"spark.dynamicAllocation.shuffleTracking.enabled\",True)\\\n",
    "        .config(\"spark.shuffle.service.enabled\", False)\\\n",
    "        .config(\"spark.dynamicAllocation.executorIdleTimeout\",\"30s\")\\\n",
    "        .config(\"spark.executor.cores\",2)\\\n",
    "        .config(\"spark.driver.port\",9998)\\\n",
    "        .config(\"spark.blockManager.port\",10005)\\\n",
    "        .getOrCreate()\n",
    "# Old API (RDD)\n",
    "spark_context = spark_session.sparkContext\n",
    "spark_context.setLogLevel(\"ERROR\")"
   ]
  },
  {
   "cell_type": "code",
   "execution_count": 5,
   "id": "ddbcbe7f-7070-4e8c-8d20-64e4f640c2a9",
   "metadata": {},
   "outputs": [
    {
     "data": {
      "text/html": [
       "\n",
       "        <div>\n",
       "            <p><b>SparkContext</b></p>\n",
       "\n",
       "            <p><a href=\"http://host-192-168-2-86-de1:4040\">Spark UI</a></p>\n",
       "\n",
       "            <dl>\n",
       "              <dt>Version</dt>\n",
       "                <dd><code>v3.2.0</code></dd>\n",
       "              <dt>Master</dt>\n",
       "                <dd><code>spark://192.168.2.119:7077</code></dd>\n",
       "              <dt>AppName</dt>\n",
       "                <dd><code>weilin_PartA</code></dd>\n",
       "            </dl>\n",
       "        </div>\n",
       "        "
      ],
      "text/plain": [
       "<SparkContext master=spark://192.168.2.119:7077 appName=weilin_PartA>"
      ]
     },
     "execution_count": 5,
     "metadata": {},
     "output_type": "execute_result"
    }
   ],
   "source": [
    "spark_context"
   ]
  },
  {
   "cell_type": "markdown",
   "id": "b6d6da97-8a2e-4a86-993a-9e5d73b21c2a",
   "metadata": {},
   "source": [
    "# A.1"
   ]
  },
  {
   "cell_type": "code",
   "execution_count": 7,
   "id": "830c46a6-d048-4aca-a82a-7ed86bc835e2",
   "metadata": {},
   "outputs": [
    {
     "name": "stderr",
     "output_type": "stream",
     "text": [
      "[Stage 0:>                                                          (0 + 2) / 2]\r"
     ]
    },
    {
     "name": "stdout",
     "output_type": "stream",
     "text": [
      "The line counts of English:  1862234\n"
     ]
    },
    {
     "name": "stderr",
     "output_type": "stream",
     "text": [
      "                                                                                \r"
     ]
    }
   ],
   "source": [
    "English = spark_context.textFile(\"hdfs://192.168.2.119:9000/europarl/europarl-v7.sv-en.en\")\n",
    "\n",
    "English_lines = English.count()\n",
    "print(\"The line counts of English: \", English_lines)"
   ]
  },
  {
   "cell_type": "code",
   "execution_count": 8,
   "id": "1c14b0b5-119b-4a1f-9d00-d2d77b04adf0",
   "metadata": {},
   "outputs": [
    {
     "name": "stderr",
     "output_type": "stream",
     "text": [
      "[Stage 1:=======================================>                   (2 + 1) / 3]\r"
     ]
    },
    {
     "name": "stdout",
     "output_type": "stream",
     "text": [
      "The line counts of Swedish:  1862234\n"
     ]
    },
    {
     "name": "stderr",
     "output_type": "stream",
     "text": [
      "                                                                                \r"
     ]
    }
   ],
   "source": [
    "Swedish = spark_context.textFile(\"hdfs://192.168.2.119:9000/europarl/europarl-v7.sv-en.sv\")\n",
    "\n",
    "Swedish_lines = Swedish.count()\n",
    "print(\"The line counts of Swedish: \", Swedish_lines)"
   ]
  },
  {
   "cell_type": "code",
   "execution_count": 9,
   "id": "9ac85c4d-465e-4844-b2a3-f30070695b56",
   "metadata": {},
   "outputs": [
    {
     "name": "stdout",
     "output_type": "stream",
     "text": [
      "The line counts of English and the line counts of Swedish are the same\n"
     ]
    }
   ],
   "source": [
    "if English_lines == Swedish_lines:\n",
    "    print(\"The line counts of English and the line counts of Swedish are the same\")\n",
    "else:\n",
    "    print(\"The line counts of English and the line counts of Swedish are not the same\")"
   ]
  },
  {
   "cell_type": "code",
   "execution_count": 27,
   "id": "ccded00a-e822-4922-97db-a6785661ecda",
   "metadata": {},
   "outputs": [
    {
     "name": "stdout",
     "output_type": "stream",
     "text": [
      "The number of partitions for English file 2\n",
      "The number of partitions for Swedish file 3\n"
     ]
    }
   ],
   "source": [
    "Eng_partitions = English.getNumPartitions()\n",
    "print(\"The number of partitions for English file\",Eng_partitions)\n",
    "Swe_partitions = Swedish.getNumPartitions()\n",
    "print(\"The number of partitions for Swedish file\",Swe_partitions)"
   ]
  },
  {
   "cell_type": "markdown",
   "id": "6d5e8ed1-d994-4e1b-8fdc-90b77c12d5b1",
   "metadata": {},
   "source": [
    "# A.2"
   ]
  },
  {
   "cell_type": "code",
   "execution_count": 11,
   "id": "485155a7-2819-4fa3-843d-fc13a505dd5d",
   "metadata": {},
   "outputs": [],
   "source": [
    "def PreProcess(lines):\n",
    "    # Lowercase the text\n",
    "    lines = lines.lower()\n",
    "\n",
    "    # Tokenize the text\n",
    "    # lines = lines.translate(str.maketrans('', '', string.punctuation)).split()\n",
    "    lines = re.compile('\\w+').findall(lines)\n",
    "    return lines"
   ]
  },
  {
   "cell_type": "code",
   "execution_count": 12,
   "id": "b9c0af80-2802-4a13-908a-579cbfb9ce8c",
   "metadata": {},
   "outputs": [
    {
     "name": "stdout",
     "output_type": "stream",
     "text": [
      "English Lowercase:\n",
      " ['resumption', 'of', 'the', 'session']\n",
      "Swedish Lowercase:\n",
      " ['återupptagande', 'av', 'sessionen']\n"
     ]
    }
   ],
   "source": [
    "Eng_Latest = English.map(PreProcess)\n",
    "print(\"English Lowercase:\\n\", Eng_Latest.first())\n",
    "\n",
    "Swe_Latest = Swedish.map(PreProcess)\n",
    "print(\"Swedish Lowercase:\\n\", Swe_Latest.first())"
   ]
  },
  {
   "cell_type": "code",
   "execution_count": 13,
   "id": "ad3792c6-082b-42b6-bf80-ed9c3bf421a1",
   "metadata": {},
   "outputs": [
    {
     "name": "stderr",
     "output_type": "stream",
     "text": [
      "[Stage 5:===================>                                       (1 + 2) / 3]\r"
     ]
    },
    {
     "name": "stdout",
     "output_type": "stream",
     "text": [
      "The line counts of English Lowercase: 1862234\n",
      "The line counts of Swedish Lowercase: 1862234\n"
     ]
    },
    {
     "name": "stderr",
     "output_type": "stream",
     "text": [
      "                                                                                \r"
     ]
    }
   ],
   "source": [
    "Eng_lines_counts = Eng_Latest.count()\n",
    "Swe_lines_counts = Swe_Latest.count()\n",
    "\n",
    "print(\"The line counts of English Lowercase:\", Eng_lines_counts)\n",
    "print(\"The line counts of Swedish Lowercase:\", Swe_lines_counts)"
   ]
  },
  {
   "cell_type": "markdown",
   "id": "27530854-f61f-415d-96ab-4d5374659457",
   "metadata": {},
   "source": [
    "# A.3"
   ]
  },
  {
   "cell_type": "code",
   "execution_count": 14,
   "id": "4012801f-22d0-4732-996c-7224cf4c6908",
   "metadata": {},
   "outputs": [
    {
     "name": "stdout",
     "output_type": "stream",
     "text": [
      "[('resumption', 1), ('of', 1), ('the', 1), ('session', 1), ('i', 1), ('declare', 1), ('resumed', 1), ('the', 1), ('session', 1), ('of', 1)]\n",
      "[('återupptagande', 1), ('av', 1), ('sessionen', 1), ('jag', 1), ('förklarar', 1), ('europaparlamentets', 1), ('session', 1), ('återupptagen', 1), ('efter', 1), ('avbrottet', 1)]\n"
     ]
    }
   ],
   "source": [
    "# mapper the words \n",
    "Eng_map = English.flatMap(PreProcess).map(lambda x: (x,1))\n",
    "print(Eng_map.take(10))\n",
    "\n",
    "Swe_map = Swedish.flatMap(PreProcess).map(lambda x: (x,1))\n",
    "print(Swe_map.take(10))"
   ]
  },
  {
   "cell_type": "code",
   "execution_count": 15,
   "id": "47bdd661-b888-40c0-9460-707a50033c80",
   "metadata": {},
   "outputs": [
    {
     "name": "stderr",
     "output_type": "stream",
     "text": [
      "                                                                                \r"
     ]
    }
   ],
   "source": [
    "Eng_freq = Eng_map.reduceByKey(lambda x,y:x+y).sortBy(lambda x:x[1], False).take(10)\n",
    "Swe_freq = Swe_map.reduceByKey(lambda x,y:x+y).sortBy(lambda x:x[1], False).take(10)"
   ]
  },
  {
   "cell_type": "code",
   "execution_count": 16,
   "id": "ac2c4ddd-0ff8-4cb2-8c78-0349d9a1c49c",
   "metadata": {},
   "outputs": [
    {
     "name": "stdout",
     "output_type": "stream",
     "text": [
      "10 most frequent words in English:\n",
      " [('the', 3506102), ('of', 1662891), ('to', 1545280), ('and', 1320053), ('in', 1099408), ('that', 839196), ('a', 776918), ('is', 774969), ('for', 538487), ('we', 526580)]\n",
      "10 most frequent words in Swedish:\n",
      " [('att', 1709969), ('och', 1351079), ('i', 1054764), ('det', 953045), ('som', 917621), ('för', 915166), ('av', 740770), ('är', 701851), ('en', 636939), ('vi', 546126)]\n"
     ]
    }
   ],
   "source": [
    "print(\"10 most frequent words in English:\\n\", Eng_freq)\n",
    "print(\"10 most frequent words in Swedish:\\n\", Swe_freq)"
   ]
  },
  {
   "cell_type": "markdown",
   "id": "17361744-ba2a-47ef-9d9b-b580bddae3ef",
   "metadata": {},
   "source": [
    "# A.4"
   ]
  },
  {
   "cell_type": "code",
   "execution_count": 28,
   "id": "d87da7d1-2d99-44f1-a2aa-6805fbfbc65b",
   "metadata": {},
   "outputs": [
    {
     "name": "stderr",
     "output_type": "stream",
     "text": [
      "                                                                                \r"
     ]
    },
    {
     "name": "stdout",
     "output_type": "stream",
     "text": [
      "[(['resumption', 'of', 'the', 'session'], 0), (['i', 'declare', 'resumed', 'the', 'session', 'of', 'the', 'european', 'parliament', 'adjourned', 'on', 'friday', '17', 'december', '1999', 'and', 'i', 'would', 'like', 'once', 'again', 'to', 'wish', 'you', 'a', 'happy', 'new', 'year', 'in', 'the', 'hope', 'that', 'you', 'enjoyed', 'a', 'pleasant', 'festive', 'period'], 1), (['although', 'as', 'you', 'will', 'have', 'seen', 'the', 'dreaded', 'millennium', 'bug', 'failed', 'to', 'materialise', 'still', 'the', 'people', 'in', 'a', 'number', 'of', 'countries', 'suffered', 'a', 'series', 'of', 'natural', 'disasters', 'that', 'truly', 'were', 'dreadful'], 2)]\n",
      "[(['återupptagande', 'av', 'sessionen'], 0), (['jag', 'förklarar', 'europaparlamentets', 'session', 'återupptagen', 'efter', 'avbrottet', 'den', '17', 'december', 'jag', 'vill', 'på', 'nytt', 'önska', 'er', 'ett', 'gott', 'nytt', 'år', 'och', 'jag', 'hoppas', 'att', 'ni', 'haft', 'en', 'trevlig', 'semester'], 1), (['som', 'ni', 'kunnat', 'konstatera', 'ägde', 'den', 'stora', 'år', '2000', 'buggen', 'aldrig', 'rum', 'däremot', 'har', 'invånarna', 'i', 'ett', 'antal', 'av', 'våra', 'medlemsländer', 'drabbats', 'av', 'naturkatastrofer', 'som', 'verkligen', 'varit', 'förskräckliga'], 2)]\n"
     ]
    }
   ],
   "source": [
    "# Key the lines by their line number\n",
    "en_1 = Eng_Latest.zipWithIndex()\n",
    "sv_1 = Swe_Latest.zipWithIndex()\n",
    "\n",
    "print(en_1.take(3))\n",
    "print(sv_1.take(3))"
   ]
  },
  {
   "cell_type": "code",
   "execution_count": 18,
   "id": "f2daf168-689e-4676-aa23-3299dd1c432c",
   "metadata": {},
   "outputs": [
    {
     "name": "stdout",
     "output_type": "stream",
     "text": [
      "[(0, ['resumption', 'of', 'the', 'session']), (1, ['i', 'declare', 'resumed', 'the', 'session', 'of', 'the', 'european', 'parliament', 'adjourned', 'on', 'friday', '17', 'december', '1999', 'and', 'i', 'would', 'like', 'once', 'again', 'to', 'wish', 'you', 'a', 'happy', 'new', 'year', 'in', 'the', 'hope', 'that', 'you', 'enjoyed', 'a', 'pleasant', 'festive', 'period']), (2, ['although', 'as', 'you', 'will', 'have', 'seen', 'the', 'dreaded', 'millennium', 'bug', 'failed', 'to', 'materialise', 'still', 'the', 'people', 'in', 'a', 'number', 'of', 'countries', 'suffered', 'a', 'series', 'of', 'natural', 'disasters', 'that', 'truly', 'were', 'dreadful'])]\n",
      "[(0, ['återupptagande', 'av', 'sessionen']), (1, ['jag', 'förklarar', 'europaparlamentets', 'session', 'återupptagen', 'efter', 'avbrottet', 'den', '17', 'december', 'jag', 'vill', 'på', 'nytt', 'önska', 'er', 'ett', 'gott', 'nytt', 'år', 'och', 'jag', 'hoppas', 'att', 'ni', 'haft', 'en', 'trevlig', 'semester']), (2, ['som', 'ni', 'kunnat', 'konstatera', 'ägde', 'den', 'stora', 'år', '2000', 'buggen', 'aldrig', 'rum', 'däremot', 'har', 'invånarna', 'i', 'ett', 'antal', 'av', 'våra', 'medlemsländer', 'drabbats', 'av', 'naturkatastrofer', 'som', 'verkligen', 'varit', 'förskräckliga'])]\n"
     ]
    }
   ],
   "source": [
    "# Swap the key and value - so that the line number is the key\n",
    "en_2 = en_1.map(lambda x:(x[1],x[0]))\n",
    "sv_2 = sv_1.map(lambda x:(x[1],x[0]))\n",
    "\n",
    "print(en_2.take(3))\n",
    "print(sv_2.take(3))"
   ]
  },
  {
   "cell_type": "code",
   "execution_count": 29,
   "id": "8895052b-151c-48e5-ac4f-35835c01d8e4",
   "metadata": {},
   "outputs": [
    {
     "name": "stderr",
     "output_type": "stream",
     "text": [
      "                                                                                \r"
     ]
    },
    {
     "name": "stdout",
     "output_type": "stream",
     "text": [
      "1862234\n"
     ]
    },
    {
     "name": "stderr",
     "output_type": "stream",
     "text": [
      "[Stage 57:>                                                         (0 + 1) / 1]\r"
     ]
    },
    {
     "name": "stdout",
     "output_type": "stream",
     "text": [
      "[(909040, (['the', 'commission', 'will', 'then', 'propose', 'to', 'adhere', 'to', 'the', 'relevant', 'unece', 'regulation', 'with', 'revised', 'limit', 'values'], ['kommissionen', 'kommer', 'sedan', 'att', 'föreslå', 'att', 'man', 'följer', 'de', 'relevanta', 'ece', 'föreskrifterna', 'med', 'reviderade', 'gränsvärden'])), (909580, (['i', 'would', 'like', 'to', 'mention', 'the', 'fact', 'that', 'the', 'directive', 'we', 'refer', 'to', 'offers', 'the', 'possibility', 'to', 'the', 'member', 'states', 'to', 'introduce', 'a', 'road', 'tax', 'and', 'for', 'its', 'calculation', 'to', 'take', 'into', 'account', 'more', 'cost', 'elements', 'than', 'before'], ['jag', 'vill', 'nämna', 'att', 'det', 'direktiv', 'som', 'vi', 'hänvisar', 'till', 'ger', 'medlemsstaterna', 'möjlighet', 'att', 'införa', 'en', 'vägskatt', 'och', 'för', 'att', 'kunna', 'beräkna', 'denna', 'får', 'de', 'en', 'möjlighet', 'att', 'beakta', 'fler', 'kostnadsfaktorer', 'än', 'tidigare'])), (919805, (['we', 'will', 'set', 'ourselves', 'the', '30', 'target', 'and', 'i', 'expect', 'that', 'in', 'so', 'doing', 'we', 'will', 'show', 'by', 'example', 'that', 'we', 'mean', 'what', 'we', 'are', 'asking', 'others', 'to', 'do'], ['vi', 'kommer', 'att', 'fastställa', 'ett', 'mål', 'på', '30', 'procent', 'för', 'oss', 'själva', 'och', 'jag', 'tror', 'att', 'vi', 'på', 'så', 'sätt', 'kommer', 'att', 'visa', 'prov', 'på', 'att', 'vi', 'tar', 'det', 'som', 'vi', 'ber', 'andra', 'att', 'göra', 'på', 'allvar']))]\n"
     ]
    },
    {
     "name": "stderr",
     "output_type": "stream",
     "text": [
      "                                                                                \r"
     ]
    }
   ],
   "source": [
    "# Join the two RDDs together according to the line number key\n",
    "join_on_en_sv = en_2.join(sv_2)\n",
    "print(join_on_en_sv.count())\n",
    "print(join_on_en_sv.take(3))"
   ]
  },
  {
   "cell_type": "code",
   "execution_count": 30,
   "id": "b4f1de2e-4a79-4ce7-b0de-eb781a9e65a4",
   "metadata": {},
   "outputs": [
    {
     "name": "stderr",
     "output_type": "stream",
     "text": [
      "[Stage 59:>                                                         (0 + 1) / 1]\r"
     ]
    },
    {
     "name": "stdout",
     "output_type": "stream",
     "text": [
      "[(140, (['the', 'report', 'looks', 'at', 'the', 'issue', 'of', 'harmonising', 'the', 'examination', 'requirements', 'for', 'safety', 'advisors', 'working', 'in', 'the', 'areas', 'of', 'transportation', 'of', 'dangerous', 'goods', 'by', 'road', 'rail', 'and', 'inland', 'waterway'], ['han', 'behandlar', 'frågan', 'om', 'harmonisering', 'av', 'examineringskraven', 'för', 'säkerhetsrådgivare', 'för', 'transport', 'av', 'farligt', 'gods', 'på', 'väg', 'järnväg', 'och', 'inre', 'vattenvägar'])), (445, (['mr', 'president', 'mrs', 'schroedter', 's', 'report', 'undoubtedly', 'contains', 'several', 'important', 'observations', 'and', 'i', 'would', 'like', 'to', 'congratulate', 'her', 'on', 'that'], ['herr', 'talman', 'schroedters', 'betänkande', 'innehåller', 'utan', 'tvivel', 'ganska', 'många', 'viktiga', 'iakttagelser', 'och', 'därför', 'vill', 'jag', 'gratulera', 'henne'])), (1770, (['finally', 'after', 'seattle', 'do', 'you', 'really', 'think', 'you', 'can', 'advocate', 'increasing', 'the', 'role', 'of', 'the', 'wto'], ['anser', 'ni', 'slutligen', 'att', 'det', 'efter', 'seattle', 'är', 'seriöst', 'att', 'förespråka', 'en', 'utvidgad', 'roll', 'för', 'wto']))]\n"
     ]
    },
    {
     "name": "stderr",
     "output_type": "stream",
     "text": [
      "                                                                                \r"
     ]
    }
   ],
   "source": [
    "# Filter to exclude line pairs that have an empty/missing “corresponding” sentence\n",
    "en_sv_4 = join_on_en_sv.filter(lambda x: x[1][0] != [''] and x[1][1] != [''])\n",
    "\n",
    "print(en_sv_4.take(3))"
   ]
  },
  {
   "cell_type": "code",
   "execution_count": 31,
   "id": "1180be13-1f42-4c5e-b57b-a6ea01557dd4",
   "metadata": {},
   "outputs": [
    {
     "name": "stderr",
     "output_type": "stream",
     "text": [
      "[Stage 61:>                                                         (0 + 1) / 1]\r"
     ]
    },
    {
     "name": "stdout",
     "output_type": "stream",
     "text": [
      "[(260, (['a', 'major', 'part', 'of', 'wales', 'as', 'you', 'know', 'has', 'been', 'granted', 'objective', '1', 'status', 'under', 'the', 'structural', 'funds', 'programme'], ['huvuddelen', 'av', 'wales', 'har', 'som', 'ni', 'känner', 'till', 'erkänts', 'mål', '1', 'status', 'enligt', 'strukturfondsprogrammen'])), (480, (['the', 'european', 'commission', 's', 'sixth', 'report', 'presents', 'very', 'valuable', 'conclusions'], ['europeiska', 'kommissionens', 'sjätte', 'rapport', 'innehåller', 'värdefulla', 'slutsatser'])), (800, (['competition', 'between', 'the', 'regions', 'will', 'certainly', 'strengthen', 'rather', 'than', 'weaken', 'the', 'european', 'union'], ['konkurrensen', 'mellan', 'regionerna', 'kommer', 'säkerligen', 'att', 'stärka', 'europeiska', 'unionen', 'och', 'inte', 'försvaga', 'den']))]\n"
     ]
    },
    {
     "name": "stderr",
     "output_type": "stream",
     "text": [
      "                                                                                \r"
     ]
    }
   ],
   "source": [
    "# Filter to leave only pairs of sentences with less than 15 number of words per sentence, this should give a more reliable translation\n",
    "en_sv_5 = en_sv_4.filter(lambda x: len(x[1][0]) <= 15 or len(x[1][1]) <= 15)\n",
    "print(en_sv_5.take(3))"
   ]
  },
  {
   "cell_type": "code",
   "execution_count": 32,
   "id": "6d5f46b6-9351-4c02-95c4-b638a3eafa62",
   "metadata": {},
   "outputs": [
    {
     "name": "stderr",
     "output_type": "stream",
     "text": [
      "[Stage 63:>                                                         (0 + 1) / 1]\r"
     ]
    },
    {
     "name": "stdout",
     "output_type": "stream",
     "text": [
      "[(916030, (['take', 'nothing', 'for', 'granted', 'colleagues', 'until', 'it', 'is', 'done'], ['ta', 'ingenting', 'för', 'givet', 'kolleger', 'innan', 'detta', 'har', 'skett'])), (916320, (['we', 'know', 'nevertheless', 'that', 'mount', 'triglav', 'in', 'slovenia', 'symbolises', 'determination', 'and', 'accomplishment'], ['vi', 'vet', 'emellertid', 'att', 'berget', 'triglav', 'i', 'slovenien', 'symboliserar', 'beslutsamhet', 'och', 'förverkligande'])), (917845, (['we', 'need', 'to', 'break', 'it', 'down', 'to', 'make', 'practical', 'measures'], ['vi', 'måste', 'dela', 'upp', 'det', 'för', 'att', 'vidta', 'praktiska', 'åtgärder']))]\n"
     ]
    },
    {
     "name": "stderr",
     "output_type": "stream",
     "text": [
      "                                                                                \r"
     ]
    }
   ],
   "source": [
    "# Filter to leave only pairs of sentences with the same number of words in each sentence\n",
    "en_sv_6 = en_sv_5.filter(lambda x: len(x[1][0]) == len(x[1][1]))\n",
    "print(en_sv_6.take(3))"
   ]
  },
  {
   "cell_type": "code",
   "execution_count": 33,
   "id": "6c61ed8b-aee3-4bc4-bc1e-8c1031dbee23",
   "metadata": {},
   "outputs": [
    {
     "name": "stderr",
     "output_type": "stream",
     "text": [
      "[Stage 65:>                                                         (0 + 1) / 1]\r"
     ]
    },
    {
     "name": "stdout",
     "output_type": "stream",
     "text": [
      "[[('this', 'parlamentet'), ('parliament', 'ser'), ('anxiously', 'fram'), ('awaits', 'emot'), ('this', 'ett'), ('complete', 'sådant'), ('reform', 'fullständigt'), ('programme', 'reformprogram')], [('allow', 'låt'), ('me', 'mig'), ('just', 'också'), ('to', 'helt'), ('go', 'kort'), ('very', 'gå'), ('briefly', 'in'), ('into', 'på'), ('a', 'en'), ('second', 'annan'), ('matter', 'sak')], [('it', 'det'), ('is', 'är'), ('nonetheless', 'dock'), ('clear', 'klart'), ('that', 'att'), ('the', 'denna'), ('cost', 'kostnad'), ('will', 'kommer'), ('be', 'att'), ('borne', 'bäras'), ('jointly', 'gemensamt'), ('by', 'av'), ('manufacturers', 'producenter'), ('and', 'och'), ('consumers', 'konsumenter')]]\n"
     ]
    },
    {
     "name": "stderr",
     "output_type": "stream",
     "text": [
      "                                                                                \r"
     ]
    }
   ],
   "source": [
    "# For each sentence pair, map so that you pair each (in order) word in the two sentences.\n",
    "en_sv_7 = en_sv_6.map(lambda x: list(zip(x[1][0],x[1][1])))\n",
    "print(en_sv_7.take(3))"
   ]
  },
  {
   "cell_type": "code",
   "execution_count": 34,
   "id": "541733e3-2234-433b-9035-3db21dea03f8",
   "metadata": {},
   "outputs": [
    {
     "name": "stderr",
     "output_type": "stream",
     "text": [
      "[Stage 67:==============================================>           (4 + 1) / 5]\r"
     ]
    },
    {
     "name": "stdout",
     "output_type": "stream",
     "text": [
      "total word-translation-pairs: 1013530\n"
     ]
    },
    {
     "name": "stderr",
     "output_type": "stream",
     "text": [
      "                                                                                \r"
     ]
    }
   ],
   "source": [
    "# count the number of occurrences of the word-translation-pairs.\n",
    "wordPair_counts = en_sv_7.map(lambda wp: len(wp))\n",
    "total_wordPairs = wordPair_counts.reduce(add)\n",
    "print(\"total word-translation-pairs:\", total_wordPairs)"
   ]
  },
  {
   "cell_type": "code",
   "execution_count": 35,
   "id": "1a1771c2-c10a-4da5-b114-5f51ca9226c4",
   "metadata": {},
   "outputs": [
    {
     "name": "stderr",
     "output_type": "stream",
     "text": [
      "[Stage 69:>                                                         (0 + 1) / 1]\r"
     ]
    },
    {
     "name": "stdout",
     "output_type": "stream",
     "text": [
      "[(('take', 'ta'), 1), (('nothing', 'ingenting'), 1), (('for', 'för'), 1)]\n"
     ]
    },
    {
     "name": "stderr",
     "output_type": "stream",
     "text": [
      "                                                                                \r"
     ]
    }
   ],
   "source": [
    "# mapper the word pairs for compute the frequency\n",
    "en_sv_9 = en_sv_6.flatMap(lambda x: list(zip(x[1][0],x[1][1]))).map(lambda x:(x,1))\n",
    "print(en_sv_9.take(3))"
   ]
  },
  {
   "cell_type": "code",
   "execution_count": 36,
   "id": "c5122717-51bf-4637-a24b-808f1b441b4c",
   "metadata": {},
   "outputs": [
    {
     "name": "stderr",
     "output_type": "stream",
     "text": [
      "                                                                                \r"
     ]
    },
    {
     "name": "stdout",
     "output_type": "stream",
     "text": [
      "[(('is', 'är'), 15983), (('we', 'vi'), 11878), (('i', 'jag'), 11378), (('and', 'och'), 9528), (('this', 'detta'), 6990), (('it', 'det'), 6697), (('a', 'en'), 6330), (('in', 'i'), 5764), (('not', 'inte'), 5463), (('to', 'att'), 4802), (('that', 'det'), 4475), (('that', 'att'), 4174), (('the', 'den'), 4060), (('a', 'ett'), 4018), (('have', 'har'), 3974), (('for', 'för'), 3772), (('of', 'av'), 3717), (('applause', 'applåder'), 3358), (('the', 'det'), 3308), (('are', 'är'), 3143)]\n"
     ]
    }
   ],
   "source": [
    "# Print some of the most frequently occurring pairs of words.\n",
    "en_sv_9_freq = en_sv_9.reduceByKey(add).sortBy(lambda x:x[1], False).take(20)\n",
    "print(en_sv_9_freq)"
   ]
  },
  {
   "cell_type": "code",
   "execution_count": null,
   "id": "0fd8371c-44c2-405f-87be-d7982d02f4b8",
   "metadata": {},
   "outputs": [],
   "source": []
  }
 ],
 "metadata": {
  "kernelspec": {
   "display_name": "Python 3 (ipykernel)",
   "language": "python",
   "name": "python3"
  },
  "language_info": {
   "codemirror_mode": {
    "name": "ipython",
    "version": 3
   },
   "file_extension": ".py",
   "mimetype": "text/x-python",
   "name": "python",
   "nbconvert_exporter": "python",
   "pygments_lexer": "ipython3",
   "version": "3.8.10"
  }
 },
 "nbformat": 4,
 "nbformat_minor": 5
}
